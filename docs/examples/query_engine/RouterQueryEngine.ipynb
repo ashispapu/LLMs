{
  "cells": [
    {
      "cell_type": "markdown",
      "metadata": {
        "id": "FekduI-tB7IX"
      },
      "source": [
        "<a href=\"https://colab.research.google.com/github/run-llama/llama_index/blob/main/docs/examples/query_engine/RouterQueryEngine.ipynb\" target=\"_parent\"><img src=\"https://colab.research.google.com/assets/colab-badge.svg\" alt=\"Open In Colab\"/></a>"
      ]
    },
    {
      "cell_type": "markdown",
      "metadata": {
        "id": "UVtWD4XgB7Ic"
      },
      "source": [
        "# Router Query Engine\n",
        "In this tutorial, we define a custom router query engine that selects one out of several candidate query engines to execute a query."
      ]
    },
    {
      "cell_type": "markdown",
      "metadata": {
        "id": "JgTYJr2gB7Id"
      },
      "source": [
        "### Setup"
      ]
    },
    {
      "cell_type": "markdown",
      "metadata": {
        "id": "wAYougQGB7Ie"
      },
      "source": [
        "If you're opening this Notebook on colab, you will probably need to install LlamaIndex 🦙."
      ]
    },
    {
      "cell_type": "code",
      "execution_count": null,
      "metadata": {
        "id": "nryLg8BBB7Ie"
      },
      "outputs": [],
      "source": [
        "!pip install llama-index"
      ]
    },
    {
      "cell_type": "code",
      "execution_count": null,
      "metadata": {
        "id": "mF1UqKWtB7Ih"
      },
      "outputs": [],
      "source": [
        "# NOTE: This is ONLY necessary in jupyter notebook.\n",
        "# Details: Jupyter runs an event-loop behind the scenes.\n",
        "#          This results in nested event-loops when we start an event-loop to make async queries.\n",
        "#          This is normally not allowed, we use nest_asyncio to allow it for convenience.\n",
        "import nest_asyncio\n",
        "\n",
        "nest_asyncio.apply()"
      ]
    },
    {
      "cell_type": "code",
      "execution_count": null,
      "metadata": {
        "id": "pBidddLoB7Ii"
      },
      "outputs": [],
      "source": [
        "import logging\n",
        "import sys\n",
        "\n",
        "logging.basicConfig(stream=sys.stdout, level=logging.INFO)\n",
        "logging.getLogger().handlers = []\n",
        "logging.getLogger().addHandler(logging.StreamHandler(stream=sys.stdout))\n",
        "\n",
        "from llama_index import (\n",
        "    VectorStoreIndex,\n",
        "    SummaryIndex,\n",
        "    SimpleDirectoryReader,\n",
        "    ServiceContext,\n",
        "    StorageContext,\n",
        ")"
      ]
    },
    {
      "cell_type": "markdown",
      "metadata": {
        "id": "Cy2RS7mHB7Ii"
      },
      "source": [
        "### Load Data\n",
        "\n",
        "We first show how to convert a Document into a set of Nodes, and insert into a DocumentStore."
      ]
    },
    {
      "cell_type": "code",
      "execution_count": null,
      "metadata": {
        "id": "LMoGpj5RB7Ij"
      },
      "outputs": [],
      "source": [
        "# load documents\n",
        "documents = SimpleDirectoryReader(\"../data/paul_graham\").load_data()"
      ]
    },
    {
      "cell_type": "code",
      "execution_count": null,
      "metadata": {
        "id": "ULkw2F3YB7Ij"
      },
      "outputs": [],
      "source": [
        "# initialize service context (set chunk size)\n",
        "service_context = ServiceContext.from_defaults(chunk_size=1024)\n",
        "nodes = service_context.node_parser.get_nodes_from_documents(documents)"
      ]
    },
    {
      "cell_type": "code",
      "execution_count": null,
      "metadata": {
        "id": "Y4Q9D9nMB7Ik"
      },
      "outputs": [],
      "source": [
        "# initialize storage context (by default it's in-memory)\n",
        "storage_context = StorageContext.from_defaults()\n",
        "storage_context.docstore.add_documents(nodes)"
      ]
    },
    {
      "cell_type": "markdown",
      "metadata": {
        "id": "6Tk-uFdfB7Ik"
      },
      "source": [
        "### Define Summary Index and Vector Index over Same Data"
      ]
    },
    {
      "cell_type": "code",
      "execution_count": null,
      "metadata": {
        "id": "G5SiETvJB7Il"
      },
      "outputs": [],
      "source": [
        "summary_index = SummaryIndex(nodes, storage_context=storage_context)\n",
        "vector_index = VectorStoreIndex(nodes, storage_context=storage_context)"
      ]
    },
    {
      "cell_type": "markdown",
      "metadata": {
        "id": "9Yad-q-oB7Im"
      },
      "source": [
        "### Define Query Engines and Set Metadata"
      ]
    },
    {
      "cell_type": "code",
      "execution_count": null,
      "metadata": {
        "id": "PI2OUjxZB7Im"
      },
      "outputs": [],
      "source": [
        "list_query_engine = summary_index.as_query_engine(\n",
        "    response_mode=\"tree_summarize\",\n",
        "    use_async=True,\n",
        ")\n",
        "vector_query_engine = vector_index.as_query_engine()"
      ]
    },
    {
      "cell_type": "code",
      "execution_count": null,
      "metadata": {
        "id": "ABK0CLhdB7In"
      },
      "outputs": [],
      "source": [
        "from llama_index.tools.query_engine import QueryEngineTool\n",
        "\n",
        "\n",
        "list_tool = QueryEngineTool.from_defaults(\n",
        "    query_engine=list_query_engine,\n",
        "    description=(\n",
        "        \"Useful for summarization questions related to Paul Graham eassy on\"\n",
        "        \" What I Worked On.\"\n",
        "    ),\n",
        ")\n",
        "\n",
        "vector_tool = QueryEngineTool.from_defaults(\n",
        "    query_engine=vector_query_engine,\n",
        "    description=(\n",
        "        \"Useful for retrieving specific context from Paul Graham essay on What\"\n",
        "        \" I Worked On.\"\n",
        "    ),\n",
        ")"
      ]
    },
    {
      "cell_type": "markdown",
      "metadata": {
        "id": "kywkw5jdB7Io"
      },
      "source": [
        "### Define Router Query Engine\n",
        "\n",
        "There are several selectors available, each with some distinct attributes.\n",
        "\n",
        "The LLM selectors use the LLM to output a JSON that is parsed, and the corresponding indexes are queried.\n",
        "\n",
        "The Pydantic selectors (currently only supported by `gpt-4-0613` and `gpt-3.5-turbo-0613` (the default)) use the OpenAI Function Call API to produce pydantic selection objects, rather than parsing raw JSON.\n",
        "\n",
        "For each type of selector, there is also the option to select 1 index to route to, or multiple.\n",
        "\n",
        "#### PydanticSingleSelector\n",
        "\n",
        "Use the OpenAI Function API to generate/parse pydantic objects under the hood for the router selector."
      ]
    },
    {
      "cell_type": "code",
      "execution_count": null,
      "metadata": {
        "id": "zj5TWBqKB7Io"
      },
      "outputs": [],
      "source": [
        "from llama_index.query_engine.router_query_engine import RouterQueryEngine\n",
        "from llama_index.selectors.llm_selectors import (\n",
        "    LLMSingleSelector,\n",
        "    LLMMultiSelector,\n",
        ")\n",
        "from llama_index.selectors.pydantic_selectors import (\n",
        "    PydanticMultiSelector,\n",
        "    PydanticSingleSelector,\n",
        ")\n",
        "\n",
        "\n",
        "query_engine = RouterQueryEngine(\n",
        "    selector=PydanticSingleSelector.from_defaults(),\n",
        "    query_engine_tools=[\n",
        "        list_tool,\n",
        "        vector_tool,\n",
        "    ],\n",
        ")"
      ]
    },
    {
      "cell_type": "code",
      "execution_count": null,
      "metadata": {
        "id": "ftVXBTMNB7Ip"
      },
      "outputs": [],
      "source": [
        "response = query_engine.query(\"What is the summary of the document?\")\n",
        "print(str(response))"
      ]
    },
    {
      "cell_type": "code",
      "execution_count": null,
      "metadata": {
        "id": "MZCN9HLnB7Iq"
      },
      "outputs": [],
      "source": [
        "response = query_engine.query(\"What did Paul Graham do after RICS?\")\n",
        "print(str(response))"
      ]
    },
    {
      "cell_type": "markdown",
      "metadata": {
        "id": "tzIQSQlzB7Iq"
      },
      "source": [
        "#### LLMSingleSelector\n",
        "\n",
        "Use OpenAI (or any other LLM) to parse generated JSON under the hood to select a sub-index for routing."
      ]
    },
    {
      "cell_type": "code",
      "execution_count": null,
      "metadata": {
        "id": "IPzfnos3B7Ir"
      },
      "outputs": [],
      "source": [
        "query_engine = RouterQueryEngine(\n",
        "    selector=LLMSingleSelector.from_defaults(),\n",
        "    query_engine_tools=[\n",
        "        list_tool,\n",
        "        vector_tool,\n",
        "    ],\n",
        ")"
      ]
    },
    {
      "cell_type": "code",
      "execution_count": null,
      "metadata": {
        "id": "NWO0s_ioB7Ir"
      },
      "outputs": [],
      "source": [
        "response = query_engine.query(\"What is the summary of the document?\")\n",
        "print(str(response))"
      ]
    },
    {
      "cell_type": "code",
      "execution_count": null,
      "metadata": {
        "id": "OY3Z2W8dB7Ir"
      },
      "outputs": [],
      "source": [
        "response = query_engine.query(\"What did Paul Graham do after RICS?\")\n",
        "print(str(response))"
      ]
    },
    {
      "cell_type": "code",
      "execution_count": null,
      "metadata": {
        "id": "-oqlMt4rB7Is"
      },
      "outputs": [],
      "source": [
        "# [optional] look at selected results\n",
        "print(str(response.metadata[\"selector_result\"]))"
      ]
    },
    {
      "cell_type": "markdown",
      "metadata": {
        "id": "DZxJSxabB7It"
      },
      "source": [
        "#### PydanticMultiSelector\n",
        "\n",
        "In case you are expecting queries to be routed to multiple indexes, you should use a multi selector. The multi selector sends to query to multiple sub-indexes, and then aggregates all responses using a summary index to form a complete answer."
      ]
    },
    {
      "cell_type": "code",
      "execution_count": null,
      "metadata": {
        "id": "Xq8gGAcNB7It"
      },
      "outputs": [],
      "source": [
        "from llama_index import SimpleKeywordTableIndex\n",
        "\n",
        "keyword_index = SimpleKeywordTableIndex(nodes, storage_context=storage_context)\n",
        "\n",
        "keyword_tool = QueryEngineTool.from_defaults(\n",
        "    query_engine=vector_query_engine,\n",
        "    description=(\n",
        "        \"Useful for retrieving specific context using keywords from Paul\"\n",
        "        \" Graham essay on What I Worked On.\"\n",
        "    ),\n",
        ")"
      ]
    },
    {
      "cell_type": "code",
      "execution_count": null,
      "metadata": {
        "id": "omiYdClYB7Iu"
      },
      "outputs": [],
      "source": [
        "query_engine = RouterQueryEngine(\n",
        "    selector=PydanticMultiSelector.from_defaults(),\n",
        "    query_engine_tools=[\n",
        "        list_tool,\n",
        "        vector_tool,\n",
        "        keyword_tool,\n",
        "    ],\n",
        ")"
      ]
    },
    {
      "cell_type": "code",
      "execution_count": null,
      "metadata": {
        "id": "6kNk1XLpB7Iu"
      },
      "outputs": [],
      "source": [
        "# This query could use either a keyword or vector query engine, so it will combine responses from both\n",
        "response = query_engine.query(\n",
        "    \"What were noteable events and people from the authors time at Interleaf\"\n",
        "    \" and YC?\"\n",
        ")\n",
        "print(str(response))"
      ]
    },
    {
      "cell_type": "code",
      "execution_count": null,
      "metadata": {
        "id": "yR_cJLo7B7Iu"
      },
      "outputs": [],
      "source": [
        "# [optional] look at selected results\n",
        "print(str(response.metadata[\"selector_result\"]))"
      ]
    }
  ],
  "metadata": {
    "kernelspec": {
      "display_name": "llama_index_v2",
      "language": "python",
      "name": "llama_index_v2"
    },
    "language_info": {
      "codemirror_mode": {
        "name": "ipython",
        "version": 3
      },
      "file_extension": ".py",
      "mimetype": "text/x-python",
      "name": "python",
      "nbconvert_exporter": "python",
      "pygments_lexer": "ipython3"
    },
    "colab": {
      "provenance": []
    }
  },
  "nbformat": 4,
  "nbformat_minor": 0
}