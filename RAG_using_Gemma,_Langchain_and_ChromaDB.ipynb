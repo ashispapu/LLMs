{
  "metadata": {
    "kernelspec": {
      "language": "python",
      "display_name": "Python 3",
      "name": "python3"
    },
    "language_info": {
      "name": "python",
      "version": "3.10.13",
      "mimetype": "text/x-python",
      "codemirror_mode": {
        "name": "ipython",
        "version": 3
      },
      "pygments_lexer": "ipython3",
      "nbconvert_exporter": "python",
      "file_extension": ".py"
    },
    "kaggle": {
      "accelerator": "gpu",
      "dataSources": [
        {
          "sourceId": 64148,
          "databundleVersionId": 7669720,
          "sourceType": "competition"
        },
        {
          "sourceId": 7705679,
          "sourceType": "datasetVersion",
          "datasetId": 4498747
        },
        {
          "sourceId": 11382,
          "sourceType": "modelInstanceVersion",
          "isSourceIdPinned": true,
          "modelInstanceId": 8318
        }
      ],
      "dockerImageVersionId": 30674,
      "isInternetEnabled": true,
      "language": "python",
      "sourceType": "notebook",
      "isGpuEnabled": true
    },
    "colab": {
      "name": "RAG using Gemma, Langchain and ChromaDB",
      "provenance": [],
      "include_colab_link": true
    }
  },
  "nbformat_minor": 0,
  "nbformat": 4,
  "cells": [
    {
      "cell_type": "markdown",
      "metadata": {
        "id": "view-in-github",
        "colab_type": "text"
      },
      "source": [
        "<a href=\"https://colab.research.google.com/github/ashispapu/LLMs/blob/main/RAG_using_Gemma%2C_Langchain_and_ChromaDB.ipynb\" target=\"_parent\"><img src=\"https://colab.research.google.com/assets/colab-badge.svg\" alt=\"Open In Colab\"/></a>"
      ]
    },
    {
      "source": [
        "\n",
        "# IMPORTANT: RUN THIS CELL IN ORDER TO IMPORT YOUR KAGGLE DATA SOURCES\n",
        "# TO THE CORRECT LOCATION (/kaggle/input) IN YOUR NOTEBOOK,\n",
        "# THEN FEEL FREE TO DELETE THIS CELL.\n",
        "# NOTE: THIS NOTEBOOK ENVIRONMENT DIFFERS FROM KAGGLE'S PYTHON\n",
        "# ENVIRONMENT SO THERE MAY BE MISSING LIBRARIES USED BY YOUR\n",
        "# NOTEBOOK.\n",
        "\n",
        "import os\n",
        "import sys\n",
        "from tempfile import NamedTemporaryFile\n",
        "from urllib.request import urlopen\n",
        "from urllib.parse import unquote, urlparse\n",
        "from urllib.error import HTTPError\n",
        "from zipfile import ZipFile\n",
        "import tarfile\n",
        "import shutil\n",
        "\n",
        "CHUNK_SIZE = 40960\n",
        "DATA_SOURCE_MAPPING = 'data-science-interview-q-and-a-treasury:https%3A%2F%2Fstorage.googleapis.com%2Fkaggle-data-sets%2F4498747%2F7705679%2Fbundle%2Farchive.zip%3FX-Goog-Algorithm%3DGOOG4-RSA-SHA256%26X-Goog-Credential%3Dgcp-kaggle-com%2540kaggle-161607.iam.gserviceaccount.com%252F20240403%252Fauto%252Fstorage%252Fgoog4_request%26X-Goog-Date%3D20240403T082622Z%26X-Goog-Expires%3D259200%26X-Goog-SignedHeaders%3Dhost%26X-Goog-Signature%3Dec3eb8bff7df2348ae92ae247b51a14dbd92564c9bfbf2a3f57d08fab27c22ea9e3b8efb7207d63b5a4e9794919461187e2bccca2e36a0754f5e8382daf6a8f27e933407a97e65581e7750b49d8ecac547d3f94e356c8434c5607e5b70f62f9af63bda570470ba9093bc8780eddabcf7b9ac3955314d46f125fab3600773b83fec80e8e416a2c672276c92145ae07c047f7a7bee8423da4bf2c5c562bddf6eb6a1c060a411dc7b12a1951fececf32293b46c06a137138406fc088ed6d70f11b49ded28a5253a2d794c8feaa37aa1d334cce5acdea3ca81efa69ec7d03363ca1e84790ce2afa35db59c6d9f542b0156f538f60a0432c8b75cfa3a79d1fdbab095'\n",
        "\n",
        "KAGGLE_INPUT_PATH='/kaggle/input'\n",
        "KAGGLE_WORKING_PATH='/kaggle/working'\n",
        "KAGGLE_SYMLINK='kaggle'\n",
        "\n",
        "!umount /kaggle/input/ 2> /dev/null\n",
        "shutil.rmtree('/kaggle/input', ignore_errors=True)\n",
        "os.makedirs(KAGGLE_INPUT_PATH, 0o777, exist_ok=True)\n",
        "os.makedirs(KAGGLE_WORKING_PATH, 0o777, exist_ok=True)\n",
        "\n",
        "try:\n",
        "  os.symlink(KAGGLE_INPUT_PATH, os.path.join(\"..\", 'input'), target_is_directory=True)\n",
        "except FileExistsError:\n",
        "  pass\n",
        "try:\n",
        "  os.symlink(KAGGLE_WORKING_PATH, os.path.join(\"..\", 'working'), target_is_directory=True)\n",
        "except FileExistsError:\n",
        "  pass\n",
        "\n",
        "for data_source_mapping in DATA_SOURCE_MAPPING.split(','):\n",
        "    directory, download_url_encoded = data_source_mapping.split(':')\n",
        "    download_url = unquote(download_url_encoded)\n",
        "    filename = urlparse(download_url).path\n",
        "    destination_path = os.path.join(KAGGLE_INPUT_PATH, directory)\n",
        "    try:\n",
        "        with urlopen(download_url) as fileres, NamedTemporaryFile() as tfile:\n",
        "            total_length = fileres.headers['content-length']\n",
        "            print(f'Downloading {directory}, {total_length} bytes compressed')\n",
        "            dl = 0\n",
        "            data = fileres.read(CHUNK_SIZE)\n",
        "            while len(data) > 0:\n",
        "                dl += len(data)\n",
        "                tfile.write(data)\n",
        "                done = int(50 * dl / int(total_length))\n",
        "                sys.stdout.write(f\"\\r[{'=' * done}{' ' * (50-done)}] {dl} bytes downloaded\")\n",
        "                sys.stdout.flush()\n",
        "                data = fileres.read(CHUNK_SIZE)\n",
        "            if filename.endswith('.zip'):\n",
        "              with ZipFile(tfile) as zfile:\n",
        "                zfile.extractall(destination_path)\n",
        "            else:\n",
        "              with tarfile.open(tfile.name) as tarfile:\n",
        "                tarfile.extractall(destination_path)\n",
        "            print(f'\\nDownloaded and uncompressed: {directory}')\n",
        "    except HTTPError as e:\n",
        "        print(f'Failed to load (likely expired) {download_url} to path {destination_path}')\n",
        "        continue\n",
        "    except OSError as e:\n",
        "        print(f'Failed to load {download_url} to path {destination_path}')\n",
        "        continue\n",
        "\n",
        "print('Data source import complete.')\n"
      ],
      "metadata": {
        "id": "Zuhq6uAHERFO"
      },
      "cell_type": "code",
      "outputs": [],
      "execution_count": null
    },
    {
      "cell_type": "markdown",
      "source": [
        "<center><h1>RAG using Gemma, Langchain and ChromaDB</h1></center>\n",
        "<center><img src=\"https://res.infoq.com/news/2024/02/google-gemma-open-model/en/headerimage/generatedHeaderImage-1708977571481.jpg\" width=\"400\"></center>\n",
        "\n",
        "\n",
        "# Introduction\n",
        "\n",
        "This notebook demonstrates how to build a retrieval augmented generation (RAG) system using Gemma as a large language model (LLM), Langchain for tools to process input files, and ChromaDB as vector database.\n",
        "\n",
        "## What is RAG?\n",
        "\n",
        "Retriever augmented generation (RAG) is a system that improves the response generated by a LLM in two ways:\n",
        "- First, the information is retrieved from a dataset that is stored in vector database; the query is used to perform similarity search in the documents stored in the vector database.\n",
        "- Second, by restraining the context provided to the LLM to content that is similar with the initial query, stored in the vector database, we can reduce significantly (or even eliminate) LLM's halucinations, since the answer is provided from the context of the stored documents.\n",
        "\n",
        "An important advantage of this approach is that we do not need to fine-tune the LLM with our custom data; instead, the data is ingested (cleaned, transformed, chunked, and indexed in the vector database).\n",
        "\n",
        "## Procedure\n",
        "\n",
        "We create two classes:\n",
        "* AIAgent - An AI Agent that query Gemma LLM using a custom prompt that instruct Gemma to generate and answer (from the query) by refering to the context (as well provided); the answer to the AI Agent query function is then returned.\n",
        "* RAGSystem - initialized with the dataset with Data Science information, with an AIAgent object. In the init function of this class, we ingest the data from the dataset in the vector database. This class have as well a query member function. In this function we first perform similarity search with the query to the vector database. Then, we call the generate function of the ai agent object. Before returning the answer, we use a predefined template to compose the overal response from the question, answer and the context retrieved.\n"
      ],
      "metadata": {
        "_uuid": "8f2839f25d086af736a60e9eeb907d3b93b6e0e5",
        "_cell_guid": "b1076dfc-b9ad-4769-8c92-a6c4dae69d19",
        "id": "qB5atYEiERFR"
      }
    },
    {
      "cell_type": "markdown",
      "source": [
        "# Packages instalation and configurations"
      ],
      "metadata": {
        "id": "bbEHnHmsERFU"
      }
    },
    {
      "cell_type": "code",
      "source": [
        "# install required libraries\n",
        "!pip install -q -U git+https://github.com/huggingface/transformers.git\n",
        "!pip install accelerate\n",
        "!pip install -i https://pypi.org/simple/ bitsandbytes\n",
        "!pip install langchain\n",
        "!pip install sentence-transformers\n",
        "!pip install chromadb"
      ],
      "metadata": {
        "execution": {
          "iopub.status.busy": "2024-04-01T20:00:17.159009Z",
          "iopub.execute_input": "2024-04-01T20:00:17.159795Z",
          "iopub.status.idle": "2024-04-01T20:02:42.721302Z",
          "shell.execute_reply.started": "2024-04-01T20:00:17.159753Z",
          "shell.execute_reply": "2024-04-01T20:02:42.720254Z"
        },
        "trusted": true,
        "id": "IKG4a83aERFV"
      },
      "execution_count": null,
      "outputs": []
    },
    {
      "cell_type": "code",
      "source": [
        "from transformers import AutoTokenizer, AutoModelForCausalLM\n",
        "\n",
        "from langchain.document_loaders import CSVLoader\n",
        "from langchain.text_splitter import RecursiveCharacterTextSplitter\n",
        "from langchain_community.embeddings import HuggingFaceEmbeddings\n",
        "from langchain.vectorstores import Chroma\n",
        "\n",
        "from IPython.display import display, Markdown\n"
      ],
      "metadata": {
        "execution": {
          "iopub.status.busy": "2024-04-01T20:02:42.723285Z",
          "iopub.execute_input": "2024-04-01T20:02:42.723612Z",
          "iopub.status.idle": "2024-04-01T20:02:48.445497Z",
          "shell.execute_reply.started": "2024-04-01T20:02:42.723584Z",
          "shell.execute_reply": "2024-04-01T20:02:48.44473Z"
        },
        "trusted": true,
        "id": "9bBwA3bNERFX"
      },
      "execution_count": null,
      "outputs": []
    },
    {
      "cell_type": "markdown",
      "source": [
        "# AI Agent class"
      ],
      "metadata": {
        "id": "PbFssLmgERFY"
      }
    },
    {
      "cell_type": "code",
      "source": [
        "class AIAgent:\n",
        "    \"\"\"Gemma 2b-it based assistant that replies given the retrieved documents\"\"\"\n",
        "    def __init__(self):\n",
        "        self.tokenizer = AutoTokenizer.from_pretrained(\"/kaggle/input/gemma/transformers/2b-it/2\")\n",
        "        self.gemma_lm = AutoModelForCausalLM.from_pretrained(\"/kaggle/input/gemma/transformers/2b-it/2\")\n",
        "\n",
        "    def create_prompt(self, query, context):\n",
        "        # prompt template\n",
        "        prompt = f\"\"\"\n",
        "        You are an AI Agent specialized to answer to questions about Data Science.\n",
        "        Explain the concept or answer the question about Data Science.\n",
        "        In order to create the answer, please only use the information from the\n",
        "        context provided (Context). Do not include other information.\n",
        "        Answer with simple words.\n",
        "        If needed, include also explanations.\n",
        "        Question: {query}\n",
        "        Context: {context}\n",
        "        Answer:\n",
        "        \"\"\"\n",
        "        return prompt\n",
        "\n",
        "    def generate(self, query, retrieved_info):\n",
        "        prompt = self.create_prompt(query, retrieved_info)\n",
        "        input_ids = self.tokenizer(query, return_tensors=\"pt\").input_ids\n",
        "        # Answer generation\n",
        "        answer = self.gemma_lm.generate(\n",
        "            input_ids,\n",
        "            max_length=512, # limit the answer to 512\n",
        "        )\n",
        "        # Decode and return the answer\n",
        "        answer = self.tokenizer.decode(answer[0], skip_special_tokens=True)\n",
        "        return answer"
      ],
      "metadata": {
        "execution": {
          "iopub.status.busy": "2024-04-01T20:02:48.446594Z",
          "iopub.execute_input": "2024-04-01T20:02:48.446944Z",
          "iopub.status.idle": "2024-04-01T20:02:48.454536Z",
          "shell.execute_reply.started": "2024-04-01T20:02:48.44692Z",
          "shell.execute_reply": "2024-04-01T20:02:48.453523Z"
        },
        "trusted": true,
        "id": "vKuOiBbyERFZ"
      },
      "execution_count": null,
      "outputs": []
    },
    {
      "cell_type": "code",
      "source": [
        "class RAGSystem:\n",
        "    \"\"\"Sentence embedding based Retrieval Based Augmented generation.\n",
        "        Given database of pdf files, retriever finds num_retrieved_docs relevant documents\"\"\"\n",
        "    def __init__(self, ai_agent, num_retrieved_docs=3):\n",
        "        # load the data\n",
        "        self.num_docs = 3\n",
        "        self.ai_agent = ai_agent\n",
        "        loader = CSVLoader(\"/kaggle/input/data-science-interview-q-and-a-treasury/dataset.csv\")\n",
        "        documents = loader.load()\n",
        "        self.template = \"\\n\\nQuestion:\\n{question}\\n\\nAnswer:\\n{answer}\\n\\nContext:\\n{context}\"\n",
        "\n",
        "        text_splitter = RecursiveCharacterTextSplitter(\n",
        "            chunk_size=800,\n",
        "            chunk_overlap=100)\n",
        "        all_splits = text_splitter.split_documents(documents)\n",
        "        # create a vectorstore database\n",
        "        embeddings = HuggingFaceEmbeddings(model_name=\"all-MiniLM-L6-v2\")\n",
        "        self.vector_db = Chroma.from_documents(documents=all_splits,\n",
        "                                               embedding=embeddings,\n",
        "                                               persist_directory=\"chroma_db\")\n",
        "        self.retriever = self.vector_db.as_retriever()\n",
        "\n",
        "    def retrieve(self, query):\n",
        "        # retrieve top k similar documents to query\n",
        "        docs = self.retriever.get_relevant_documents(query)\n",
        "        return docs\n",
        "\n",
        "    def query(self, query):\n",
        "        # generate the answer\n",
        "        context = self.retrieve(query)\n",
        "        answer = self.ai_agent.generate(query, context)\n",
        "\n",
        "        return self.template.format(question=query,\n",
        "                                   answer=answer,\n",
        "                                   context=context)\n",
        "\n",
        ""
      ],
      "metadata": {
        "execution": {
          "iopub.status.busy": "2024-04-01T20:02:48.456844Z",
          "iopub.execute_input": "2024-04-01T20:02:48.457375Z",
          "iopub.status.idle": "2024-04-01T20:02:48.475589Z",
          "shell.execute_reply.started": "2024-04-01T20:02:48.45734Z",
          "shell.execute_reply": "2024-04-01T20:02:48.474787Z"
        },
        "trusted": true,
        "id": "z5UIMpp7ERFb"
      },
      "execution_count": null,
      "outputs": []
    },
    {
      "cell_type": "code",
      "source": [
        "def colorize_text(text):\n",
        "    for word, color in zip([\"Question\", \"Answer\", \"Context\"], [\"blue\", \"red\", \"green\"]):\n",
        "        text = text.replace(f\"\\n\\n{word}:\", f\"\\n\\n**<font color='{color}'>{word}:</font>**\")\n",
        "    return text"
      ],
      "metadata": {
        "execution": {
          "iopub.status.busy": "2024-04-01T20:02:48.476619Z",
          "iopub.execute_input": "2024-04-01T20:02:48.477048Z",
          "iopub.status.idle": "2024-04-01T20:02:48.488145Z",
          "shell.execute_reply.started": "2024-04-01T20:02:48.477013Z",
          "shell.execute_reply": "2024-04-01T20:02:48.487339Z"
        },
        "trusted": true,
        "id": "VGyb5GKhERFd"
      },
      "execution_count": null,
      "outputs": []
    },
    {
      "cell_type": "markdown",
      "source": [
        "# Test the RAG system"
      ],
      "metadata": {
        "id": "be5BHHacERFd"
      }
    },
    {
      "cell_type": "code",
      "source": [
        "ai_agent = AIAgent()\n",
        "rag_system = RAGSystem(ai_agent)"
      ],
      "metadata": {
        "execution": {
          "iopub.status.busy": "2024-04-01T20:02:48.489222Z",
          "iopub.execute_input": "2024-04-01T20:02:48.489542Z",
          "iopub.status.idle": "2024-04-01T20:03:34.158566Z",
          "shell.execute_reply.started": "2024-04-01T20:02:48.489507Z",
          "shell.execute_reply": "2024-04-01T20:03:34.15777Z"
        },
        "trusted": true,
        "id": "3mN8tcIsERFe"
      },
      "execution_count": null,
      "outputs": []
    },
    {
      "cell_type": "code",
      "source": [
        "answer = rag_system.query(\"What is SVM?\")\n",
        "display(Markdown(colorize_text(answer)))"
      ],
      "metadata": {
        "execution": {
          "iopub.status.busy": "2024-04-01T20:03:34.159697Z",
          "iopub.execute_input": "2024-04-01T20:03:34.160119Z",
          "iopub.status.idle": "2024-04-01T20:06:20.150701Z",
          "shell.execute_reply.started": "2024-04-01T20:03:34.160093Z",
          "shell.execute_reply": "2024-04-01T20:06:20.149721Z"
        },
        "trusted": true,
        "id": "sLVHfCVJERFf"
      },
      "execution_count": null,
      "outputs": []
    },
    {
      "cell_type": "code",
      "source": [
        "answer = rag_system.query(\"What is regularization?\")\n",
        "display(Markdown(colorize_text(answer)))"
      ],
      "metadata": {
        "execution": {
          "iopub.status.busy": "2024-04-01T20:07:45.873992Z",
          "iopub.execute_input": "2024-04-01T20:07:45.874966Z",
          "iopub.status.idle": "2024-04-01T20:10:27.284028Z",
          "shell.execute_reply.started": "2024-04-01T20:07:45.874931Z",
          "shell.execute_reply": "2024-04-01T20:10:27.283075Z"
        },
        "trusted": true,
        "id": "gM8haYkkERFg"
      },
      "execution_count": null,
      "outputs": []
    },
    {
      "cell_type": "code",
      "source": [
        "answer = rag_system.query(\"Please explain bias and variance?\")\n",
        "display(Markdown(colorize_text(answer)))"
      ],
      "metadata": {
        "execution": {
          "iopub.status.busy": "2024-04-01T20:10:27.285814Z",
          "iopub.execute_input": "2024-04-01T20:10:27.286258Z",
          "iopub.status.idle": "2024-04-01T20:11:51.093399Z",
          "shell.execute_reply.started": "2024-04-01T20:10:27.286225Z",
          "shell.execute_reply": "2024-04-01T20:11:51.092216Z"
        },
        "trusted": true,
        "id": "33Mmc77WERFh"
      },
      "execution_count": null,
      "outputs": []
    },
    {
      "cell_type": "markdown",
      "source": [
        "# Conclusions\n",
        "\n",
        "We tested a RAG system developed with Gemma as LLM, Langchain for data loaders utilities, and ChromaDB as database.\n",
        "The RAG system is initialized with a dataset, that is used to populate the vector database, and with an AI Agent, that will query Gemma, given the initial query and the retrieved context.\n",
        "To verify that the result is composed based on the context provided, we include as well the context in the exported result.\n"
      ],
      "metadata": {
        "id": "QnTlQxXzERFj"
      }
    }
  ]
}