{
  "nbformat": 4,
  "nbformat_minor": 0,
  "metadata": {
    "colab": {
      "provenance": [],
      "include_colab_link": true
    },
    "kernelspec": {
      "name": "python3",
      "display_name": "Python 3"
    },
    "language_info": {
      "name": "python"
    }
  },
  "cells": [
    {
      "cell_type": "markdown",
      "metadata": {
        "id": "view-in-github",
        "colab_type": "text"
      },
      "source": [
        "<a href=\"https://colab.research.google.com/github/ashispapu/LLMs/blob/main/camel_demo_llm_agent.ipynb\" target=\"_parent\"><img src=\"https://colab.research.google.com/assets/colab-badge.svg\" alt=\"Open In Colab\"/></a>"
      ]
    },
    {
      "cell_type": "markdown",
      "source": [
        "# Install CAMEL from source\n",
        "\n"
      ],
      "metadata": {
        "id": "6RZYHRmByf5x"
      }
    },
    {
      "cell_type": "code",
      "execution_count": null,
      "metadata": {
        "id": "0WUuvz0OmOnE"
      },
      "outputs": [],
      "source": [
        "!pip install git+https://github.com/camel-ai/camel.git"
      ]
    },
    {
      "cell_type": "markdown",
      "source": [
        "# Run CAMEL role-playing session"
      ],
      "metadata": {
        "id": "wuI8Y9JXvoj1"
      }
    },
    {
      "cell_type": "code",
      "source": [
        "import os\n",
        "\n",
        "os.environ[\"OPENAI_API_KEY\"] = \"\""
      ],
      "metadata": {
        "id": "q2-ClmHAmPn6"
      },
      "execution_count": null,
      "outputs": []
    },
    {
      "cell_type": "code",
      "source": [
        "from colorama import Fore\n",
        "\n",
        "from camel.societies import RolePlaying\n",
        "from camel.utils import print_text_animated\n",
        "\n",
        "task_prompt = \"Design a custom game using pygame\"\n",
        "print(Fore.YELLOW + f\"Original task prompt:\\n{task_prompt}\\n\")\n",
        "role_play_session = RolePlaying(\"Computer Programmer\", \"Gamer\", task_prompt=task_prompt)\n",
        "print(Fore.CYAN + f\"Specified task prompt:\\n{role_play_session.task_prompt}\\n\")\n",
        "\n",
        "chat_turn_limit, n = 50, 0\n",
        "input_msg = role_play_session.init_chat()\n",
        "while n < chat_turn_limit:\n",
        "    n += 1\n",
        "    assistant_response, user_response = role_play_session.step(input_msg)\n",
        "    print_text_animated(Fore.BLUE +f\"AI User:\\n\\n{user_response.msg.content}\\n\")\n",
        "    print_text_animated(Fore.GREEN + \"AI Assistant:\\n\\n\"f\"{assistant_response.msg.content}\\n\")\n",
        "\n",
        "    if \"CAMEL_TASK_DONE\" in user_response.msg.content:\n",
        "        break\n",
        "\n",
        "    input_msg = assistant_response.msg\n"
      ],
      "metadata": {
        "id": "-IhYiAWDme66"
      },
      "execution_count": null,
      "outputs": []
    }
  ]
}